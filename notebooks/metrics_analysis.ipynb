{
 "cells": [
  {
   "cell_type": "markdown",
   "metadata": {},
   "source": [
    "# EUR-Lex Scraper Metrics Analysis\n",
    "\n",
    "This notebook analyzes the metrics collected during the scraping process."
   ]
  },
  {
   "cell_type": "code",
   "execution_count": null,
   "metadata": {},
   "source": [
    "import json\n",
    "import pandas as pd\n",
    "import matplotlib.pyplot as plt\n",
    "import seaborn as sns\n",
    "from pathlib import Path\n",
    "from datetime import datetime\n",
    "\n",
    "# Set style for plots\n",
    "plt.style.use('seaborn')\n",
    "sns.set_palette('husl')"
   ]
  },
  {
   "cell_type": "code",
   "execution_count": null,
   "metadata": {},
   "source": [
    "# Load metrics from JSON files\n",
    "metrics_dir = Path('../metrics')\n",
    "metrics_files = list(metrics_dir.glob('*.json'))\n",
    "\n",
    "metrics_data = []\n",
    "for file in metrics_files:\n",
    "    with open(file, 'r') as f:\n",
    "        data = json.load(f)\n",
    "        data['timestamp'] = datetime.fromtimestamp(data['timestamp'])\n",
    "        metrics_data.append(data)\n",
    "\n",
    "# Convert to DataFrame\n",
    "df = pd.DataFrame(metrics_data)"
   ]
  },
  {
   "cell_type": "markdown",
   "metadata": {},
   "source": [
    "## Basic Statistics"
   ]
  },
  {
   "cell_type": "code",
   "execution_count": null,
   "metadata": {},
   "source": [
    "# Display basic statistics\n",
    "print(\"Total number of scraping sessions:\", len(df))\n",
    "print(\"\\nMetrics summary:\")\n",
    "df.describe()"
   ]
  },
  {
   "cell_type": "markdown",
   "metadata": {},
   "source": [
    "## Time Series Analysis"
   ]
  },
  {
   "cell_type": "code",
   "execution_count": null,
   "metadata": {},
   "source": [
    "# Plot metrics over time\n",
    "plt.figure(figsize=(12, 6))\n",
    "plt.plot(df['timestamp'], df['documents_processed'], label='Documents Processed')\n",
    "plt.plot(df['timestamp'], df['successful_downloads'], label='Successful Downloads')\n",
    "plt.plot(df['timestamp'], df['failed_downloads'], label='Failed Downloads')\n",
    "plt.xlabel('Time')\n",
    "plt.ylabel('Count')\n",
    "plt.title('Scraping Performance Over Time')\n",
    "plt.legend()\n",
    "plt.xticks(rotation=45)\n",
    "plt.tight_layout()\n",
    "plt.show()"
   ]
  },
  {
   "cell_type": "markdown",
   "metadata": {},
   "source": [
    "## Success Rate Analysis"
   ]
  },
  {
   "cell_type": "code",
   "execution_count": null,
   "metadata": {},
   "source": [
    "# Calculate and plot success rates\n",
    "df['success_rate'] = df['successful_downloads'] / df['documents_processed'] * 100\n",
    "\n",
    "plt.figure(figsize=(12, 6))\n",
    "plt.plot(df['timestamp'], df['success_rate'])\n",
    "plt.xlabel('Time')\n",
    "plt.ylabel('Success Rate (%)')\n",
    "plt.title('Scraping Success Rate Over Time')\n",
    "plt.xticks(rotation=45)\n",
    "plt.tight_layout()\n",
    "plt.show()"
   ]
  }
 ],
 "metadata": {
  "kernelspec": {
   "display_name": "Python 3",
   "language": "python",
   "name": "python3"
  },
  "language_info": {
   "codemirror_mode": {
    "name": "ipython",
    "version": 3
   },
   "file_extension": ".py",
   "mimetype": "text/x-python",
   "name": "python",
   "nbconvert_exporter": "python",
   "pygments_lexer": "ipython3",
   "version": "3.8.0"
  }
 },
 "nbformat": 4,
 "nbformat_minor": 4
}
