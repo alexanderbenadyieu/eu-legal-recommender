{
 "cells": [
  {
   "cell_type": "markdown",
   "metadata": {},
   "source": [
    "# EUR-Lex Data Exploration\n",
    "\n",
    "This notebook creates a database from the scraped JSON files and performs exploratory data analysis."
   ]
  },
  {
   "cell_type": "code",
   "execution_count": null,
   "metadata": {},
   "source": [
    "import json\n",
    "import pandas as pd\n",
    "import matplotlib.pyplot as plt\n",
    "import seaborn as sns\n",
    "from pathlib import Path\n",
    "from datetime import datetime\n",
    "import sqlite3\n",
    "from tqdm.notebook import tqdm\n",
    "\n",
    "# Set style for plots\n",
    "plt.style.use('seaborn')\n",
    "sns.set_palette('husl')"
   ]
  },
  {
   "cell_type": "markdown",
   "metadata": {},
   "source": [
    "## Create SQLite Database"
   ]
  },
  {
   "cell_type": "code",
   "execution_count": null,
   "metadata": {},
   "source": [
    "# Connect to SQLite database\n",
    "conn = sqlite3.connect('eurlex_documents.db')\n",
    "cursor = conn.cursor()\n",
    "\n",
    "# Create table for documents\n",
    "cursor.execute(\"\"\"\n",
    "CREATE TABLE IF NOT EXISTS documents (\n",
    "    celex TEXT PRIMARY KEY,\n",
    "    title TEXT,\n",
    "    document_type TEXT,\n",
    "    year INTEGER,\n",
    "    number INTEGER,\n",
    "    date_document DATE,\n",
    "    date_effect DATE,\n",
    "    date_end DATE,\n",
    "    directory_code TEXT,\n",
    "    full_text TEXT\n",
    ")\n",
    "\"\"\")\n",
    "\n",
    "conn.commit()"
   ]
  },
  {
   "cell_type": "code",
   "execution_count": null,
   "metadata": {},
   "source": [
    "# Function to load JSON files into database\n",
    "def load_json_files():\n",
    "    data_dir = Path('../data')\n",
    "    json_files = list(data_dir.rglob('*.json'))\n",
    "    \n",
    "    for file in tqdm(json_files, desc='Loading documents'):\n",
    "        with open(file, 'r') as f:\n",
    "            try:\n",
    "                data = json.load(f)\n",
    "                \n",
    "                # Extract data\n",
    "                cursor.execute(\"\"\"\n",
    "                INSERT OR REPLACE INTO documents \n",
    "                (celex, title, document_type, year, number, date_document, \n",
    "                 date_effect, date_end, directory_code, full_text)\n",
    "                VALUES (?, ?, ?, ?, ?, ?, ?, ?, ?, ?)\n",
    "                \"\"\", (\n",
    "                    data.get('celex'),\n",
    "                    data.get('title'),\n",
    "                    data.get('document_type'),\n",
    "                    data.get('year'),\n",
    "                    data.get('number'),\n",
    "                    data.get('date_document'),\n",
    "                    data.get('date_effect'),\n",
    "                    data.get('date_end'),\n",
    "                    data.get('directory_code'),\n",
    "                    data.get('full_text')\n",
    "                ))\n",
    "                \n",
    "            except json.JSONDecodeError:\n",
    "                print(f\"Error loading {file}\")\n",
    "                continue\n",
    "    \n",
    "    conn.commit()\n",
    "\n",
    "# Load the data\n",
    "load_json_files()"
   ]
  },
  {
   "cell_type": "markdown",
   "metadata": {},
   "source": [
    "## Basic Data Analysis"
   ]
  },
  {
   "cell_type": "code",
   "execution_count": null,
   "metadata": {},
   "source": [
    "# Load data into pandas\n",
    "df = pd.read_sql(\"\"\"\n",
    "SELECT \n",
    "    document_type,\n",
    "    year,\n",
    "    date_document,\n",
    "    date_effect,\n",
    "    directory_code\n",
    "FROM documents\n",
    "\"\"\", conn)\n",
    "\n",
    "# Convert dates\n",
    "for col in ['date_document', 'date_effect']:\n",
    "    df[col] = pd.to_datetime(df[col])\n",
    "\n",
    "print(\"Total number of documents:\", len(df))\n",
    "print(\"\\nDocument types distribution:\")\n",
    "print(df['document_type'].value_counts())"
   ]
  },
  {
   "cell_type": "markdown",
   "metadata": {},
   "source": [
    "## Time Series Analysis"
   ]
  },
  {
   "cell_type": "code",
   "execution_count": null,
   "metadata": {},
   "source": [
    "# Documents per year\n",
    "yearly_counts = df['year'].value_counts().sort_index()\n",
    "\n",
    "plt.figure(figsize=(15, 6))\n",
    "yearly_counts.plot(kind='bar')\n",
    "plt.title('Number of Documents per Year')\n",
    "plt.xlabel('Year')\n",
    "plt.ylabel('Number of Documents')\n",
    "plt.xticks(rotation=45)\n",
    "plt.tight_layout()\n",
    "plt.show()"
   ]
  },
  {
   "cell_type": "markdown",
   "metadata": {},
   "source": [
    "## Document Type Analysis"
   ]
  },
  {
   "cell_type": "code",
   "execution_count": null,
   "metadata": {},
   "source": [
    "# Document types over time\n",
    "doc_types_by_year = df.pivot_table(\n",
    "    index='year',\n",
    "    columns='document_type',\n",
    "    aggfunc='size',\n",
    "    fill_value=0\n",
    ")\n",
    "\n",
    "plt.figure(figsize=(15, 8))\n",
    "doc_types_by_year.plot(kind='area', stacked=True)\n",
    "plt.title('Document Types Distribution Over Time')\n",
    "plt.xlabel('Year')\n",
    "plt.ylabel('Number of Documents')\n",
    "plt.legend(title='Document Type', bbox_to_anchor=(1.05, 1))\n",
    "plt.tight_layout()\n",
    "plt.show()"
   ]
  },
  {
   "cell_type": "markdown",
   "metadata": {},
   "source": [
    "## Directory Code Analysis"
   ]
  },
  {
   "cell_type": "code",
   "execution_count": null,
   "metadata": {},
   "source": [
    "# Top directory codes\n",
    "print(\"Most common directory codes:\")\n",
    "print(df['directory_code'].value_counts().head(10))\n",
    "\n",
    "# Plot top directory codes\n",
    "plt.figure(figsize=(12, 6))\n",
    "df['directory_code'].value_counts().head(10).plot(kind='bar')\n",
    "plt.title('Top 10 Directory Codes')\n",
    "plt.xlabel('Directory Code')\n",
    "plt.ylabel('Number of Documents')\n",
    "plt.xticks(rotation=45)\n",
    "plt.tight_layout()\n",
    "plt.show()"
   ]
  }
 ],
 "metadata": {
  "kernelspec": {
   "display_name": "Python 3",
   "language": "python",
   "name": "python3"
  },
  "language_info": {
   "codemirror_mode": {
    "name": "ipython",
    "version": 3
   },
   "file_extension": ".py",
   "mimetype": "text/x-python",
   "name": "python",
   "nbconvert_exporter": "python",
   "pygments_lexer": "ipython3",
   "version": "3.8.0"
  }
 },
 "nbformat": 4,
 "nbformat_minor": 4
}
